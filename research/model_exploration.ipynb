{
 "cells": [
  {
   "cell_type": "code",
   "execution_count": 1,
   "metadata": {},
   "outputs": [
    {
     "name": "stderr",
     "output_type": "stream",
     "text": [
      "Using TensorFlow backend.\n"
     ]
    }
   ],
   "source": [
    "from utils import *\n",
    "from models import *\n",
    "from experiments import *\n",
    "from qd_data import *\n",
    "import keras\n",
    "import numpy as np\n",
    "from keras.applications.mobilenet_v2 import MobileNetV2\n",
    "from imgaug import augmenters as iaa\n",
    "import imgaug as ia\n",
    "%matplotlib inline"
   ]
  },
  {
   "cell_type": "markdown",
   "metadata": {},
   "source": [
    "### Load Data"
   ]
  },
  {
   "cell_type": "code",
   "execution_count": 2,
   "metadata": {},
   "outputs": [],
   "source": [
    "# df_all = pd.read_csv(data_path+\"df_all_raw.csv\")\n"
   ]
  },
  {
   "cell_type": "code",
   "execution_count": 3,
   "metadata": {},
   "outputs": [],
   "source": [
    "small_df = pd.read_csv(\"../data/small-set.csv\")\n",
    "\n",
    "\n"
   ]
  },
  {
   "cell_type": "code",
   "execution_count": 4,
   "metadata": {},
   "outputs": [
    {
     "data": {
      "text/plain": [
       "(1000, 3)"
      ]
     },
     "execution_count": 4,
     "metadata": {},
     "output_type": "execute_result"
    }
   ],
   "source": [
    "small_df.shape"
   ]
  },
  {
   "cell_type": "code",
   "execution_count": 5,
   "metadata": {},
   "outputs": [
    {
     "name": "stdout",
     "output_type": "stream",
     "text": [
      "Epoch 1/2\n",
      "1/1 [==============================] - 6s 6s/step - loss: 6.0744 - acc: 0.0000e+00 - top_3_accuracy: 0.0000e+00 - val_loss: 14.9166 - val_acc: 0.0000e+00 - val_top_3_accuracy: 0.0000e+00\n",
      "Epoch 2/2\n",
      "1/1 [==============================] - 0s 73ms/step - loss: 6.1668 - acc: 0.0000e+00 - top_3_accuracy: 0.0000e+00 - val_loss: 12.5090 - val_acc: 0.0000e+00 - val_top_3_accuracy: 0.0000e+00\n"
     ]
    }
   ],
   "source": [
    "exp1.train(MobileNetV2(input_shape=(32, 32, 1), alpha=1., weights=None, classes=num_classes),\n",
    "          small_df,small_df,continue_training=True)"
   ]
  },
  {
   "cell_type": "code",
   "execution_count": 29,
   "metadata": {},
   "outputs": [],
   "source": [
    "# _10fold0 = load_obj(\"../data/folds10.pik\")[0]\n",
    "# train_index = _10fold0[\"train_index\"]\n",
    "valid_index = _10fold0[\"test_index\"]"
   ]
  },
  {
   "cell_type": "code",
   "execution_count": 31,
   "metadata": {},
   "outputs": [],
   "source": [
    "df_all.iloc[valid_index].to_csv(\"../data/valid_df.csv\",index=False)"
   ]
  },
  {
   "cell_type": "code",
   "execution_count": 5,
   "metadata": {},
   "outputs": [],
   "source": [
    "small_df = pd.read_csv(\"../data/small-set.csv\")"
   ]
  },
  {
   "cell_type": "code",
   "execution_count": 148,
   "metadata": {},
   "outputs": [],
   "source": [
    "valid_df = small_df"
   ]
  },
  {
   "cell_type": "code",
   "execution_count": 6,
   "metadata": {},
   "outputs": [],
   "source": [
    "# train_gen = QD_Datagen(df_all.drawing.iloc[train_index],df_all.target.iloc[train_index],4, is_train_mode = True)\n",
    "train_gen = QD_Datagen(sample_df.drawing,\n",
    "                       sample_df.target,\n",
    "                       batch_size,\n",
    "                       is_train_mode = True, imsize=imsize)\n"
   ]
  },
  {
   "cell_type": "code",
   "execution_count": 44,
   "metadata": {},
   "outputs": [],
   "source": [
    "valid_gen = QD_Datagen(valid_df.drawing,\n",
    "                       valid_df.target,\n",
    "                       batch_size, \n",
    "                       is_train_mode=False,\n",
    "                       imsize=imsize)"
   ]
  },
  {
   "cell_type": "markdown",
   "metadata": {},
   "source": [
    "### Model"
   ]
  },
  {
   "cell_type": "code",
   "execution_count": 2,
   "metadata": {},
   "outputs": [],
   "source": [
    "imsize=96\t  \n",
    "batch_size=128\n",
    "# fold = 8 #np.random.choice( range(1,10))\n",
    "\n",
    "name = \"xception_real_3d\"\n",
    "exp_name = f\"{name}_im{imsize}_batch{batch_size}\""
   ]
  },
  {
   "cell_type": "code",
   "execution_count": 3,
   "metadata": {},
   "outputs": [],
   "source": [
    "# exp_name = \"xception_augv2_im128_fold5_nonrecxxx\"\n",
    "# callbacks = get_callbacks(exp_name, batch_size=batch_size)\n"
   ]
  },
  {
   "cell_type": "code",
   "execution_count": 3,
   "metadata": {
    "scrolled": false
   },
   "outputs": [],
   "source": [
    "# model = keras.applications.InceptionResNetV2(input_shape=(imsize, imsize, 1), weights=None, classes=num_classes)\n",
    "# model.compile(loss='categorical_crossentropy',\n",
    "#               optimizer='adam',\n",
    "#               metrics=['accuracy', top_3_accuracy])"
   ]
  },
  {
   "cell_type": "code",
   "execution_count": 6,
   "metadata": {},
   "outputs": [],
   "source": [
    "model.load_weights(f\"../weights/{exp_name}.hdf5\")"
   ]
  },
  {
   "cell_type": "code",
   "execution_count": 11,
   "metadata": {
    "scrolled": true
   },
   "outputs": [
    {
     "name": "stdout",
     "output_type": "stream",
     "text": [
      "Epoch 1/2\n",
      " 9/10 [==========================>...] - ETA: 1s - loss: 6.3528 - acc: 0.0000e+00 - top_3_accuracy: 0.0000e+00WARNING:tensorflow:This model was compiled with a Keras optimizer (<tensorflow.python.keras.optimizers.Adam object at 0x7fc67e0bd7f0>) but is being saved in TensorFlow format with `save_weights`. The model's weights will be saved, but unlike with TensorFlow optimizers in the TensorFlow format the optimizer's state will not be saved.\n",
      "\n",
      "Consider using a TensorFlow optimizer from `tf.train`.\n",
      "10/10 [==============================] - 19s 2s/step - loss: 6.4495 - acc: 0.0000e+00 - top_3_accuracy: 0.0000e+00 - val_loss: 5.8291 - val_acc: 0.0000e+00 - val_top_3_accuracy: 0.0000e+00\n",
      "Epoch 2/2\n",
      "10/10 [==============================] - 1s 81ms/step - loss: 7.3167 - acc: 0.0000e+00 - top_3_accuracy: 0.0250 - val_loss: 5.8293 - val_acc: 0.0000e+00 - val_top_3_accuracy: 0.0000e+00\n"
     ]
    }
   ],
   "source": [
    "hist = model.fit_generator(valid_gen,\n",
    "                           steps_per_epoch=10,#len(valid_gen)//(batch_size*10000),\n",
    "                           epochs = 2,\n",
    "                           validation_data = valid_gen,\n",
    "                           validation_steps=10,  \n",
    "                           callbacks = callbacks,\n",
    "                           verbose = 1)"
   ]
  },
  {
   "cell_type": "markdown",
   "metadata": {},
   "source": [
    "### Test prediction"
   ]
  },
  {
   "cell_type": "code",
   "execution_count": 2,
   "metadata": {},
   "outputs": [],
   "source": [
    "imsize=96\t  \n",
    "batch_size=128\n",
    "# fold = 8 #np.random.choice( range(1,10))\n",
    "\n",
    "name = \"xception_real_3d\"\n",
    "exp_name = f\"{name}_im{imsize}_batch{batch_size}\""
   ]
  },
  {
   "cell_type": "code",
   "execution_count": 3,
   "metadata": {},
   "outputs": [],
   "source": [
    "# exp_name = \"xception_augv2_im128_fold5_nonrecxxx\""
   ]
  },
  {
   "cell_type": "code",
   "execution_count": 4,
   "metadata": {},
   "outputs": [],
   "source": [
    "exp = GZ_experiment(imsize, batch_size, exp_name,\n",
    " preprocess_input=keras.applications.xception.preprocess_input, \n",
    " num_workers=os.cpu_count(),\n",
    " min_lr=2e-5) "
   ]
  },
  {
   "cell_type": "code",
   "execution_count": 5,
   "metadata": {},
   "outputs": [
    {
     "name": "stdout",
     "output_type": "stream",
     "text": [
      "Predicting using model found in /home/ubuntu/draw/weights/xception_real_3d_im96_batch128xxxxxxx.hdf5 ..\n",
      "877/877 [==============================] - 145s 165ms/step\n"
     ]
    }
   ],
   "source": [
    "exp.predict()"
   ]
  },
  {
   "cell_type": "code",
   "execution_count": 30,
   "metadata": {},
   "outputs": [
    {
     "name": "stdout",
     "output_type": "stream",
     "text": [
      "877/877 [==============================] - 81s 92ms/step\n"
     ]
    }
   ],
   "source": [
    "test_predictions = model.predict_generator(test_gen, steps=np.ceil(len(test_df)/batch_size), verbose=1)\n",
    "test_predictions = test_predictions[:test_df.shape[0]]"
   ]
  },
  {
   "cell_type": "code",
   "execution_count": 7,
   "metadata": {},
   "outputs": [],
   "source": [
    "exp = Experiment(imsize,batch_size,exp_name)"
   ]
  },
  {
   "cell_type": "code",
   "execution_count": 8,
   "metadata": {},
   "outputs": [
    {
     "name": "stdout",
     "output_type": "stream",
     "text": [
      "Predicting using model found in /home/ubuntu/draw/weights/xception_augv2_im128_fold5_nonrecxxx.hdf5 ..\n",
      "877/877 [==============================] - 85s 97ms/step\n",
      "877/877 [==============================] - 266s 303ms/step\n",
      "877/877 [==============================] - 270s 308ms/step\n",
      "877/877 [==============================] - 262s 298ms/step\n",
      "877/877 [==============================] - 268s 306ms/step\n",
      "877/877 [==============================] - 273s 311ms/step\n"
     ]
    }
   ],
   "source": [
    "exp.predict(num_augmentations=5)"
   ]
  },
  {
   "cell_type": "code",
   "execution_count": 17,
   "metadata": {},
   "outputs": [
    {
     "data": {
      "text/plain": [
       "'xception_augv2_im128_fold5_nonrecxxx'"
      ]
     },
     "execution_count": 17,
     "metadata": {},
     "output_type": "execute_result"
    }
   ],
   "source": [
    "exp_name"
   ]
  },
  {
   "cell_type": "code",
   "execution_count": 6,
   "metadata": {},
   "outputs": [],
   "source": [
    "test_predictions = np.load(f\"../predictions/{exp_name}.npy\")"
   ]
  },
  {
   "cell_type": "code",
   "execution_count": 13,
   "metadata": {},
   "outputs": [],
   "source": [
    "test_predictions = [np.load(\"../predictions/denseNet121_im128_fold8_nonrecx.npy\"),\n",
    "                    np.load(\"../predictions/xception_augv2_im128_fold5_nonrecxxx_augx5.npy\"),\n",
    "                    ]\n",
    "                            "
   ]
  },
  {
   "cell_type": "code",
   "execution_count": 14,
   "metadata": {},
   "outputs": [],
   "source": [
    "test_predictions = np.mean(test_predictions,axis=0)"
   ]
  },
  {
   "cell_type": "code",
   "execution_count": 14,
   "metadata": {},
   "outputs": [],
   "source": [
    "test_df = pd.read_csv('/home/ubuntu/draw/data/test_simplified.csv')"
   ]
  },
  {
   "cell_type": "code",
   "execution_count": 31,
   "metadata": {},
   "outputs": [
    {
     "data": {
      "text/plain": [
       "[]"
      ]
     },
     "execution_count": 31,
     "metadata": {},
     "output_type": "execute_result"
    }
   ],
   "source": [
    "classfiles"
   ]
  },
  {
   "cell_type": "code",
   "execution_count": 32,
   "metadata": {},
   "outputs": [],
   "source": [
    "\n",
    "data_path =\"/home/ubuntu/draw/data/\"\n",
    "train_path = data_path+\"train_simplified/\"\n",
    "num_classes = 340 \n",
    "BASE_SIZE = 256\n",
    "NCATS = 340 \n",
    "NCSVS = 100\n",
    "\n",
    "classfiles = glob(train_path+\"*.csv\")\n",
    "nametoid = {v[:-4].split(\"/\")[-1].replace(\" \", \"_\") :i\n",
    "\t\t\t\t\t\t\t for i, v in enumerate(classfiles) if \"df_all_raw\" not in v} #adds underscores\n",
    "idtoname = {i: v[:-4].split(\"/\")[-1].replace(\" \", \"_\")\n",
    "\t\t\t\t\t\t\t for i, v in enumerate(classfiles) if \"df_all_raw\" not in v} #adds underscores\n"
   ]
  },
  {
   "cell_type": "code",
   "execution_count": 55,
   "metadata": {},
   "outputs": [],
   "source": [
    "def list_all_categories():\n",
    "    files = os.listdir(train_path)\n",
    "    return sorted([f2cat(f) for f in files], key=str.lower)\n",
    "def f2cat(filename: str) -> str:\n",
    "    return filename.split('.')[0]"
   ]
  },
  {
   "cell_type": "code",
   "execution_count": 58,
   "metadata": {},
   "outputs": [
    {
     "data": {
      "text/html": [
       "<div>\n",
       "<style scoped>\n",
       "    .dataframe tbody tr th:only-of-type {\n",
       "        vertical-align: middle;\n",
       "    }\n",
       "\n",
       "    .dataframe tbody tr th {\n",
       "        vertical-align: top;\n",
       "    }\n",
       "\n",
       "    .dataframe thead th {\n",
       "        text-align: right;\n",
       "    }\n",
       "</style>\n",
       "<table border=\"1\" class=\"dataframe\">\n",
       "  <thead>\n",
       "    <tr style=\"text-align: right;\">\n",
       "      <th></th>\n",
       "      <th>a</th>\n",
       "      <th>b</th>\n",
       "      <th>c</th>\n",
       "    </tr>\n",
       "  </thead>\n",
       "  <tbody>\n",
       "    <tr>\n",
       "      <th>0</th>\n",
       "      <td>234</td>\n",
       "      <td>281</td>\n",
       "      <td>238</td>\n",
       "    </tr>\n",
       "    <tr>\n",
       "      <th>1</th>\n",
       "      <td>144</td>\n",
       "      <td>36</td>\n",
       "      <td>226</td>\n",
       "    </tr>\n",
       "    <tr>\n",
       "      <th>2</th>\n",
       "      <td>305</td>\n",
       "      <td>62</td>\n",
       "      <td>53</td>\n",
       "    </tr>\n",
       "    <tr>\n",
       "      <th>3</th>\n",
       "      <td>187</td>\n",
       "      <td>127</td>\n",
       "      <td>241</td>\n",
       "    </tr>\n",
       "    <tr>\n",
       "      <th>4</th>\n",
       "      <td>56</td>\n",
       "      <td>113</td>\n",
       "      <td>112</td>\n",
       "    </tr>\n",
       "  </tbody>\n",
       "</table>\n",
       "</div>"
      ],
      "text/plain": [
       "     a    b    c\n",
       "0  234  281  238\n",
       "1  144   36  226\n",
       "2  305   62   53\n",
       "3  187  127  241\n",
       "4   56  113  112"
      ]
     },
     "execution_count": 58,
     "metadata": {},
     "output_type": "execute_result"
    }
   ],
   "source": [
    "top3 = preds2catids(test_predictions)\n",
    "top3.head()\n"
   ]
  },
  {
   "cell_type": "code",
   "execution_count": 61,
   "metadata": {},
   "outputs": [],
   "source": [
    "cats = list_all_categories()\n",
    "id2cat = {k: cat.replace(' ', '_') for k, cat in enumerate(cats)}\n",
    "top3cats = top3.replace(id2cat)"
   ]
  },
  {
   "cell_type": "code",
   "execution_count": 48,
   "metadata": {},
   "outputs": [],
   "source": [
    "test_top3_id = preds2catids(test_predictions)\n",
    "top3cats = test_top3_id.replace(idtoname)\n"
   ]
  },
  {
   "cell_type": "code",
   "execution_count": 49,
   "metadata": {},
   "outputs": [
    {
     "data": {
      "text/plain": [
       "((112199, 3), (112199, 4))"
      ]
     },
     "execution_count": 49,
     "metadata": {},
     "output_type": "execute_result"
    }
   ],
   "source": [
    "top3cats.shape, test_df.shape"
   ]
  },
  {
   "cell_type": "code",
   "execution_count": 63,
   "metadata": {},
   "outputs": [
    {
     "data": {
      "text/plain": [
       "coffee_cup                 629\n",
       "calendar                   526\n",
       "cake                       521\n",
       "tornado                    520\n",
       "peas                       436\n",
       "bus                        432\n",
       "cell_phone                 432\n",
       "teddy-bear                 429\n",
       "pickup_truck               410\n",
       "toe                        405\n",
       "jacket                     404\n",
       "golf_club                  401\n",
       "ambulance                  398\n",
       "shorts                     398\n",
       "raccoon                    397\n",
       "potato                     397\n",
       "grapes                     396\n",
       "brain                      392\n",
       "marker                     392\n",
       "face                       391\n",
       "leaf                       389\n",
       "The_Great_Wall_of_China    389\n",
       "paintbrush                 385\n",
       "bulldozer                  384\n",
       "violin                     384\n",
       "goatee                     382\n",
       "belt                       382\n",
       "barn                       381\n",
       "tiger                      381\n",
       "pencil                     381\n",
       "                          ... \n",
       "keyboard                   274\n",
       "piano                      273\n",
       "squiggle                   273\n",
       "tractor                    272\n",
       "circle                     272\n",
       "ice_cream                  272\n",
       "bird                       270\n",
       "helmet                     270\n",
       "hockey_stick               267\n",
       "bench                      266\n",
       "bat                        262\n",
       "toothbrush                 259\n",
       "leg                        257\n",
       "door                       254\n",
       "screwdriver                246\n",
       "underwear                  243\n",
       "sweater                    241\n",
       "camera                     239\n",
       "garden_hose                227\n",
       "pond                       225\n",
       "dishwasher                 223\n",
       "truck                      222\n",
       "moon                       219\n",
       "string_bean                213\n",
       "nail                       211\n",
       "peanut                     193\n",
       "telephone                  187\n",
       "hurricane                  174\n",
       "birthday_cake              145\n",
       "cup                         88\n",
       "Name: a, Length: 340, dtype: int64"
      ]
     },
     "execution_count": 63,
     "metadata": {},
     "output_type": "execute_result"
    }
   ],
   "source": [
    "top3cats.a.value_counts()"
   ]
  },
  {
   "cell_type": "code",
   "execution_count": 64,
   "metadata": {},
   "outputs": [],
   "source": [
    "test_df['word'] = top3cats['a'] + ' ' + top3cats['b'] + ' ' + top3cats['c']\n",
    "submission = test_df[['key_id', 'word']]\n",
    "submission.to_csv('/home/ubuntu/draw/submissions/{}.csv'.format(exp_name), index=False)"
   ]
  },
  {
   "cell_type": "code",
   "execution_count": 65,
   "metadata": {},
   "outputs": [
    {
     "data": {
      "text/plain": [
       "'xception_real_3d_im96_batch128'"
      ]
     },
     "execution_count": 65,
     "metadata": {},
     "output_type": "execute_result"
    }
   ],
   "source": [
    "exp_name"
   ]
  },
  {
   "cell_type": "code",
   "execution_count": null,
   "metadata": {},
   "outputs": [],
   "source": []
  }
 ],
 "metadata": {
  "kernelspec": {
   "display_name": "Python 3",
   "language": "python",
   "name": "python3"
  },
  "language_info": {
   "codemirror_mode": {
    "name": "ipython",
    "version": 3
   },
   "file_extension": ".py",
   "mimetype": "text/x-python",
   "name": "python",
   "nbconvert_exporter": "python",
   "pygments_lexer": "ipython3",
   "version": "3.6.6"
  }
 },
 "nbformat": 4,
 "nbformat_minor": 2
}
