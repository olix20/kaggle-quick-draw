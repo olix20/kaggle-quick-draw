{
 "cells": [
  {
   "cell_type": "code",
   "execution_count": 21,
   "metadata": {},
   "outputs": [],
   "source": [
    "import pandas as pd \n",
    "from glob import glob\n",
    "from tqdm import tqdm_notebook\n",
    "from utils import *\n",
    "%matplotlib inline"
   ]
  },
  {
   "cell_type": "code",
   "execution_count": 22,
   "metadata": {},
   "outputs": [],
   "source": [
    "path=\"../data/\"\n",
    "df_list=[]"
   ]
  },
  {
   "cell_type": "code",
   "execution_count": 23,
   "metadata": {},
   "outputs": [],
   "source": [
    "tmp = pd.read_csv(\"../data/train_simplified/panda.csv\",nrows=10)"
   ]
  },
  {
   "cell_type": "code",
   "execution_count": 28,
   "metadata": {},
   "outputs": [
    {
     "data": {
      "text/html": [
       "<div>\n",
       "<style scoped>\n",
       "    .dataframe tbody tr th:only-of-type {\n",
       "        vertical-align: middle;\n",
       "    }\n",
       "\n",
       "    .dataframe tbody tr th {\n",
       "        vertical-align: top;\n",
       "    }\n",
       "\n",
       "    .dataframe thead th {\n",
       "        text-align: right;\n",
       "    }\n",
       "</style>\n",
       "<table border=\"1\" class=\"dataframe\">\n",
       "  <thead>\n",
       "    <tr style=\"text-align: right;\">\n",
       "      <th></th>\n",
       "      <th>countrycode</th>\n",
       "      <th>drawing</th>\n",
       "      <th>key_id</th>\n",
       "      <th>recognized</th>\n",
       "      <th>timestamp</th>\n",
       "      <th>word</th>\n",
       "    </tr>\n",
       "  </thead>\n",
       "  <tbody>\n",
       "    <tr>\n",
       "      <th>0</th>\n",
       "      <td>US</td>\n",
       "      <td>[[[132, 106, 81, 66, 40, 20, 18, 37, 60, 72, 1...</td>\n",
       "      <td>5453565080371200</td>\n",
       "      <td>True</td>\n",
       "      <td>2017-03-13 16:53:48.790980</td>\n",
       "      <td>panda</td>\n",
       "    </tr>\n",
       "    <tr>\n",
       "      <th>1</th>\n",
       "      <td>BR</td>\n",
       "      <td>[[[90, 72, 50, 17, 6, 0, 0, 4, 48, 136, 161, 2...</td>\n",
       "      <td>5965556941324288</td>\n",
       "      <td>False</td>\n",
       "      <td>2017-03-09 16:19:44.633780</td>\n",
       "      <td>panda</td>\n",
       "    </tr>\n",
       "    <tr>\n",
       "      <th>2</th>\n",
       "      <td>BR</td>\n",
       "      <td>[[[185, 148, 133, 116, 97, 61, 34, 34, 45, 57,...</td>\n",
       "      <td>6307234680143872</td>\n",
       "      <td>True</td>\n",
       "      <td>2017-01-26 00:21:17.363700</td>\n",
       "      <td>panda</td>\n",
       "    </tr>\n",
       "    <tr>\n",
       "      <th>3</th>\n",
       "      <td>US</td>\n",
       "      <td>[[[149, 122, 97, 72, 59, 35, 26, 18, 17, 21, 2...</td>\n",
       "      <td>4625715938983936</td>\n",
       "      <td>True</td>\n",
       "      <td>2017-03-23 17:55:31.427700</td>\n",
       "      <td>panda</td>\n",
       "    </tr>\n",
       "    <tr>\n",
       "      <th>4</th>\n",
       "      <td>US</td>\n",
       "      <td>[[[110, 63, 45, 30, 9, 1, 1, 15, 30, 59, 94, 1...</td>\n",
       "      <td>5116330174840832</td>\n",
       "      <td>True</td>\n",
       "      <td>2017-01-26 16:13:48.454190</td>\n",
       "      <td>panda</td>\n",
       "    </tr>\n",
       "    <tr>\n",
       "      <th>5</th>\n",
       "      <td>US</td>\n",
       "      <td>[[[137, 107, 85, 53, 25, 14, 9, 10, 17, 31, 55...</td>\n",
       "      <td>5584115464142848</td>\n",
       "      <td>True</td>\n",
       "      <td>2017-01-25 23:55:58.203070</td>\n",
       "      <td>panda</td>\n",
       "    </tr>\n",
       "    <tr>\n",
       "      <th>6</th>\n",
       "      <td>RU</td>\n",
       "      <td>[[[0, 2, 15, 42, 56, 80, 99, 115, 135, 145, 16...</td>\n",
       "      <td>5885883825782784</td>\n",
       "      <td>True</td>\n",
       "      <td>2017-01-31 15:56:27.078790</td>\n",
       "      <td>panda</td>\n",
       "    </tr>\n",
       "    <tr>\n",
       "      <th>7</th>\n",
       "      <td>US</td>\n",
       "      <td>[[[39, 93, 126, 185, 210, 225, 229, 227, 212, ...</td>\n",
       "      <td>6678908160180224</td>\n",
       "      <td>True</td>\n",
       "      <td>2017-03-02 21:08:20.742140</td>\n",
       "      <td>panda</td>\n",
       "    </tr>\n",
       "    <tr>\n",
       "      <th>8</th>\n",
       "      <td>IT</td>\n",
       "      <td>[[[66, 55, 55, 62, 75, 93, 128, 151, 162, 163,...</td>\n",
       "      <td>5492964442767360</td>\n",
       "      <td>True</td>\n",
       "      <td>2017-03-06 18:24:24.948840</td>\n",
       "      <td>panda</td>\n",
       "    </tr>\n",
       "    <tr>\n",
       "      <th>9</th>\n",
       "      <td>CA</td>\n",
       "      <td>[[[133, 124, 105, 59, 35, 14, 3, 0, 0, 9, 29, ...</td>\n",
       "      <td>6483984529752064</td>\n",
       "      <td>True</td>\n",
       "      <td>2017-01-27 17:33:12.941640</td>\n",
       "      <td>panda</td>\n",
       "    </tr>\n",
       "  </tbody>\n",
       "</table>\n",
       "</div>"
      ],
      "text/plain": [
       "  countrycode                                            drawing  \\\n",
       "0          US  [[[132, 106, 81, 66, 40, 20, 18, 37, 60, 72, 1...   \n",
       "1          BR  [[[90, 72, 50, 17, 6, 0, 0, 4, 48, 136, 161, 2...   \n",
       "2          BR  [[[185, 148, 133, 116, 97, 61, 34, 34, 45, 57,...   \n",
       "3          US  [[[149, 122, 97, 72, 59, 35, 26, 18, 17, 21, 2...   \n",
       "4          US  [[[110, 63, 45, 30, 9, 1, 1, 15, 30, 59, 94, 1...   \n",
       "5          US  [[[137, 107, 85, 53, 25, 14, 9, 10, 17, 31, 55...   \n",
       "6          RU  [[[0, 2, 15, 42, 56, 80, 99, 115, 135, 145, 16...   \n",
       "7          US  [[[39, 93, 126, 185, 210, 225, 229, 227, 212, ...   \n",
       "8          IT  [[[66, 55, 55, 62, 75, 93, 128, 151, 162, 163,...   \n",
       "9          CA  [[[133, 124, 105, 59, 35, 14, 3, 0, 0, 9, 29, ...   \n",
       "\n",
       "             key_id  recognized                   timestamp   word  \n",
       "0  5453565080371200        True  2017-03-13 16:53:48.790980  panda  \n",
       "1  5965556941324288       False  2017-03-09 16:19:44.633780  panda  \n",
       "2  6307234680143872        True  2017-01-26 00:21:17.363700  panda  \n",
       "3  4625715938983936        True  2017-03-23 17:55:31.427700  panda  \n",
       "4  5116330174840832        True  2017-01-26 16:13:48.454190  panda  \n",
       "5  5584115464142848        True  2017-01-25 23:55:58.203070  panda  \n",
       "6  5885883825782784        True  2017-01-31 15:56:27.078790  panda  \n",
       "7  6678908160180224        True  2017-03-02 21:08:20.742140  panda  \n",
       "8  5492964442767360        True  2017-03-06 18:24:24.948840  panda  \n",
       "9  6483984529752064        True  2017-01-27 17:33:12.941640  panda  "
      ]
     },
     "execution_count": 28,
     "metadata": {},
     "output_type": "execute_result"
    }
   ],
   "source": [
    "tmp"
   ]
  },
  {
   "cell_type": "code",
   "execution_count": 27,
   "metadata": {},
   "outputs": [
    {
     "data": {
      "text/plain": [
       "0     8\n",
       "1    94\n",
       "2    68\n",
       "3    93\n",
       "4    17\n",
       "5    46\n",
       "6    82\n",
       "7    16\n",
       "8    44\n",
       "9    52\n",
       "Name: key_id, dtype: int64"
      ]
     },
     "execution_count": 27,
     "metadata": {},
     "output_type": "execute_result"
    }
   ],
   "source": [
    "(tmp.key_id // 10 ** 7) % 100"
   ]
  },
  {
   "cell_type": "code",
   "execution_count": 299,
   "metadata": {
    "scrolled": true
   },
   "outputs": [
    {
     "data": {
      "application/vnd.jupyter.widget-view+json": {
       "model_id": "723fb63416da479e95d6312123dd6758",
       "version_major": 2,
       "version_minor": 0
      },
      "text/plain": [
       "HBox(children=(IntProgress(value=0, max=340), HTML(value='')))"
      ]
     },
     "metadata": {},
     "output_type": "display_data"
    },
    {
     "name": "stdout",
     "output_type": "stream",
     "text": [
      "\n"
     ]
    }
   ],
   "source": [
    "for f in tqdm_notebook(glob(path+\"/train/*.csv\")):\n",
    "    df_list.append(pd.read_csv(f,usecols=[\"drawing\",\"word\",\"recognized\"]))"
   ]
  },
  {
   "cell_type": "code",
   "execution_count": 31,
   "metadata": {},
   "outputs": [],
   "source": [
    "BASE_SIZE = 256"
   ]
  },
  {
   "cell_type": "code",
   "execution_count": 48,
   "metadata": {},
   "outputs": [],
   "source": [
    "import cv2\n",
    "def draw_cv2(raw_strokes, size=256, lw=6, time_color=True):\n",
    "    img = np.zeros((BASE_SIZE, BASE_SIZE), np.uint8)\n",
    "    for t, stroke in enumerate(raw_strokes):\n",
    "        print(stroke)\n",
    "        for i in range(len(stroke[0]) - 1):\n",
    "            color = 255 - min(t, 10) * 13 if time_color else 255\n",
    "            _ = cv2.line(img, (stroke[0][i], stroke[1][i]),\n",
    "                         (stroke[0][i + 1], stroke[1][i + 1]), color, lw)\n",
    "    if size != BASE_SIZE:\n",
    "        return cv2.resize(img, (size, size))\n",
    "    else:\n",
    "        return img\n"
   ]
  },
  {
   "cell_type": "code",
   "execution_count": 50,
   "metadata": {},
   "outputs": [
    {
     "name": "stdout",
     "output_type": "stream",
     "text": [
      "[[134, 108, 89, 70, 68, 83, 103, 135, 158, 176, 187, 190, 182, 164, 144, 119, 104], [27, 20, 26, 46, 69, 97, 110, 114, 107, 96, 80, 58, 40, 26, 21, 27, 38]]\n",
      "[[89, 69, 59, 45, 44, 47, 63, 95, 130, 153, 172, 191, 201, 208, 208, 201, 191, 167], [103, 111, 124, 155, 165, 172, 185, 194, 199, 196, 189, 174, 161, 137, 120, 103, 94, 88]]\n",
      "[[207, 205, 209, 218, 228, 248, 254, 255, 245, 235, 213, 207], [164, 153, 138, 122, 111, 105, 111, 124, 142, 150, 152, 147]]\n",
      "[[62, 50, 43, 34, 18, 8, 2, 0, 7, 12, 23, 45], [83, 75, 74, 73, 79, 85, 95, 111, 120, 120, 114, 89]]\n",
      "[[52, 36, 17, 6, 5, 9, 22, 32, 35], [152, 149, 160, 179, 189, 193, 190, 177, 167]]\n",
      "[[195, 215, 227, 228, 214, 190], [186, 193, 193, 189, 175, 166]]\n",
      "[[159, 168, 186, 212, 217, 217, 208, 172], [23, 11, 2, 0, 6, 12, 26, 51]]\n",
      "[[94, 77, 52, 38, 36, 41, 51, 61], [11, 6, 14, 25, 38, 48, 57, 59]]\n",
      "[[98, 109, 121, 125], [66, 72, 65, 58]]\n"
     ]
    },
    {
     "data": {
      "text/plain": [
       "<matplotlib.image.AxesImage at 0x7ff0a82c0a58>"
      ]
     },
     "execution_count": 50,
     "metadata": {},
     "output_type": "execute_result"
    },
    {
     "data": {
      "image/png": "[encoded data removed]",
      "text/plain": [
       "<Figure size 432x288 with 1 Axes>"
      ]
     },
     "metadata": {
      "needs_background": "light"
     },
     "output_type": "display_data"
    }
   ],
   "source": [
    "plt.imshow(draw_cv2(json.loads(small_df.drawing.iloc[0])))"
   ]
  },
  {
   "cell_type": "code",
   "execution_count": 300,
   "metadata": {},
   "outputs": [],
   "source": [
    "df_all = pd.concat(df_list)"
   ]
  },
  {
   "cell_type": "code",
   "execution_count": 301,
   "metadata": {},
   "outputs": [
    {
     "data": {
      "text/plain": [
       "(49707579, 3)"
      ]
     },
     "execution_count": 301,
     "metadata": {},
     "output_type": "execute_result"
    }
   ],
   "source": [
    "df_all.shape"
   ]
  },
  {
   "cell_type": "code",
   "execution_count": 302,
   "metadata": {},
   "outputs": [
    {
     "data": {
      "text/plain": [
       "<matplotlib.axes._subplots.AxesSubplot at 0x7f939bdd4160>"
      ]
     },
     "execution_count": 302,
     "metadata": {},
     "output_type": "execute_result"
    },
    {
     "data": {
      "image/png": "[encoded data removed]",
      "text/plain": [
       "<Figure size 432x288 with 1 Axes>"
      ]
     },
     "metadata": {
      "needs_background": "light"
     },
     "output_type": "display_data"
    }
   ],
   "source": [
    "df_all.word.value_counts().hist()"
   ]
  },
  {
   "cell_type": "code",
   "execution_count": 18,
   "metadata": {},
   "outputs": [],
   "source": [
    "# df_all.word.value_counts()"
   ]
  },
  {
   "cell_type": "code",
   "execution_count": 14,
   "metadata": {},
   "outputs": [],
   "source": [
    "recognition_rate_df = df_all.groupby(\"word\").aggregate({\"recognized\":\"mean\"})"
   ]
  },
  {
   "cell_type": "code",
   "execution_count": 17,
   "metadata": {},
   "outputs": [
    {
     "data": {
      "text/html": [
       "<div>\n",
       "<style scoped>\n",
       "    .dataframe tbody tr th:only-of-type {\n",
       "        vertical-align: middle;\n",
       "    }\n",
       "\n",
       "    .dataframe tbody tr th {\n",
       "        vertical-align: top;\n",
       "    }\n",
       "\n",
       "    .dataframe thead th {\n",
       "        text-align: right;\n",
       "    }\n",
       "</style>\n",
       "<table border=\"1\" class=\"dataframe\">\n",
       "  <thead>\n",
       "    <tr style=\"text-align: right;\">\n",
       "      <th></th>\n",
       "      <th>recognized</th>\n",
       "    </tr>\n",
       "    <tr>\n",
       "      <th>word</th>\n",
       "      <th></th>\n",
       "    </tr>\n",
       "  </thead>\n",
       "  <tbody>\n",
       "    <tr>\n",
       "      <th>stove</th>\n",
       "      <td>0.811636</td>\n",
       "    </tr>\n",
       "    <tr>\n",
       "      <th>bat</th>\n",
       "      <td>0.814061</td>\n",
       "    </tr>\n",
       "    <tr>\n",
       "      <th>eraser</th>\n",
       "      <td>0.814431</td>\n",
       "    </tr>\n",
       "    <tr>\n",
       "      <th>string bean</th>\n",
       "      <td>0.815952</td>\n",
       "    </tr>\n",
       "    <tr>\n",
       "      <th>hot tub</th>\n",
       "      <td>0.817632</td>\n",
       "    </tr>\n",
       "    <tr>\n",
       "      <th>lion</th>\n",
       "      <td>0.818328</td>\n",
       "    </tr>\n",
       "    <tr>\n",
       "      <th>cow</th>\n",
       "      <td>0.821389</td>\n",
       "    </tr>\n",
       "    <tr>\n",
       "      <th>dresser</th>\n",
       "      <td>0.822238</td>\n",
       "    </tr>\n",
       "    <tr>\n",
       "      <th>elephant</th>\n",
       "      <td>0.826863</td>\n",
       "    </tr>\n",
       "    <tr>\n",
       "      <th>monkey</th>\n",
       "      <td>0.827764</td>\n",
       "    </tr>\n",
       "    <tr>\n",
       "      <th>crocodile</th>\n",
       "      <td>0.831770</td>\n",
       "    </tr>\n",
       "    <tr>\n",
       "      <th>panda</th>\n",
       "      <td>0.834535</td>\n",
       "    </tr>\n",
       "    <tr>\n",
       "      <th>bird</th>\n",
       "      <td>0.835587</td>\n",
       "    </tr>\n",
       "    <tr>\n",
       "      <th>cat</th>\n",
       "      <td>0.836277</td>\n",
       "    </tr>\n",
       "    <tr>\n",
       "      <th>toaster</th>\n",
       "      <td>0.837725</td>\n",
       "    </tr>\n",
       "    <tr>\n",
       "      <th>fan</th>\n",
       "      <td>0.838687</td>\n",
       "    </tr>\n",
       "    <tr>\n",
       "      <th>crab</th>\n",
       "      <td>0.838777</td>\n",
       "    </tr>\n",
       "    <tr>\n",
       "      <th>drill</th>\n",
       "      <td>0.839457</td>\n",
       "    </tr>\n",
       "    <tr>\n",
       "      <th>duck</th>\n",
       "      <td>0.839711</td>\n",
       "    </tr>\n",
       "    <tr>\n",
       "      <th>drums</th>\n",
       "      <td>0.840013</td>\n",
       "    </tr>\n",
       "    <tr>\n",
       "      <th>fire hydrant</th>\n",
       "      <td>0.840085</td>\n",
       "    </tr>\n",
       "    <tr>\n",
       "      <th>animal migration</th>\n",
       "      <td>0.841143</td>\n",
       "    </tr>\n",
       "    <tr>\n",
       "      <th>sleeping bag</th>\n",
       "      <td>0.842327</td>\n",
       "    </tr>\n",
       "    <tr>\n",
       "      <th>lobster</th>\n",
       "      <td>0.843431</td>\n",
       "    </tr>\n",
       "    <tr>\n",
       "      <th>cannon</th>\n",
       "      <td>0.844725</td>\n",
       "    </tr>\n",
       "    <tr>\n",
       "      <th>raccoon</th>\n",
       "      <td>0.846021</td>\n",
       "    </tr>\n",
       "    <tr>\n",
       "      <th>roller coaster</th>\n",
       "      <td>0.846988</td>\n",
       "    </tr>\n",
       "    <tr>\n",
       "      <th>matches</th>\n",
       "      <td>0.847460</td>\n",
       "    </tr>\n",
       "    <tr>\n",
       "      <th>bandage</th>\n",
       "      <td>0.851362</td>\n",
       "    </tr>\n",
       "    <tr>\n",
       "      <th>angel</th>\n",
       "      <td>0.853208</td>\n",
       "    </tr>\n",
       "    <tr>\n",
       "      <th>...</th>\n",
       "      <td>...</td>\n",
       "    </tr>\n",
       "    <tr>\n",
       "      <th>crown</th>\n",
       "      <td>0.967991</td>\n",
       "    </tr>\n",
       "    <tr>\n",
       "      <th>shorts</th>\n",
       "      <td>0.968304</td>\n",
       "    </tr>\n",
       "    <tr>\n",
       "      <th>camera</th>\n",
       "      <td>0.968425</td>\n",
       "    </tr>\n",
       "    <tr>\n",
       "      <th>bicycle</th>\n",
       "      <td>0.968489</td>\n",
       "    </tr>\n",
       "    <tr>\n",
       "      <th>sailboat</th>\n",
       "      <td>0.968968</td>\n",
       "    </tr>\n",
       "    <tr>\n",
       "      <th>sun</th>\n",
       "      <td>0.968979</td>\n",
       "    </tr>\n",
       "    <tr>\n",
       "      <th>strawberry</th>\n",
       "      <td>0.969428</td>\n",
       "    </tr>\n",
       "    <tr>\n",
       "      <th>ladder</th>\n",
       "      <td>0.969822</td>\n",
       "    </tr>\n",
       "    <tr>\n",
       "      <th>rain</th>\n",
       "      <td>0.970285</td>\n",
       "    </tr>\n",
       "    <tr>\n",
       "      <th>bread</th>\n",
       "      <td>0.970316</td>\n",
       "    </tr>\n",
       "    <tr>\n",
       "      <th>butterfly</th>\n",
       "      <td>0.970762</td>\n",
       "    </tr>\n",
       "    <tr>\n",
       "      <th>snowflake</th>\n",
       "      <td>0.970836</td>\n",
       "    </tr>\n",
       "    <tr>\n",
       "      <th>umbrella</th>\n",
       "      <td>0.971229</td>\n",
       "    </tr>\n",
       "    <tr>\n",
       "      <th>zigzag</th>\n",
       "      <td>0.971376</td>\n",
       "    </tr>\n",
       "    <tr>\n",
       "      <th>ice cream</th>\n",
       "      <td>0.973232</td>\n",
       "    </tr>\n",
       "    <tr>\n",
       "      <th>donut</th>\n",
       "      <td>0.973620</td>\n",
       "    </tr>\n",
       "    <tr>\n",
       "      <th>grass</th>\n",
       "      <td>0.974933</td>\n",
       "    </tr>\n",
       "    <tr>\n",
       "      <th>pineapple</th>\n",
       "      <td>0.974950</td>\n",
       "    </tr>\n",
       "    <tr>\n",
       "      <th>swing set</th>\n",
       "      <td>0.975259</td>\n",
       "    </tr>\n",
       "    <tr>\n",
       "      <th>skateboard</th>\n",
       "      <td>0.975290</td>\n",
       "    </tr>\n",
       "    <tr>\n",
       "      <th>piano</th>\n",
       "      <td>0.975537</td>\n",
       "    </tr>\n",
       "    <tr>\n",
       "      <th>vase</th>\n",
       "      <td>0.976066</td>\n",
       "    </tr>\n",
       "    <tr>\n",
       "      <th>house</th>\n",
       "      <td>0.977573</td>\n",
       "    </tr>\n",
       "    <tr>\n",
       "      <th>cloud</th>\n",
       "      <td>0.977733</td>\n",
       "    </tr>\n",
       "    <tr>\n",
       "      <th>triangle</th>\n",
       "      <td>0.978323</td>\n",
       "    </tr>\n",
       "    <tr>\n",
       "      <th>pear</th>\n",
       "      <td>0.979214</td>\n",
       "    </tr>\n",
       "    <tr>\n",
       "      <th>bucket</th>\n",
       "      <td>0.979575</td>\n",
       "    </tr>\n",
       "    <tr>\n",
       "      <th>line</th>\n",
       "      <td>0.981365</td>\n",
       "    </tr>\n",
       "    <tr>\n",
       "      <th>clock</th>\n",
       "      <td>0.984295</td>\n",
       "    </tr>\n",
       "    <tr>\n",
       "      <th>rainbow</th>\n",
       "      <td>0.987457</td>\n",
       "    </tr>\n",
       "  </tbody>\n",
       "</table>\n",
       "<p>340 rows × 1 columns</p>\n",
       "</div>"
      ],
      "text/plain": [
       "                  recognized\n",
       "word                        \n",
       "stove               0.811636\n",
       "bat                 0.814061\n",
       "eraser              0.814431\n",
       "string bean         0.815952\n",
       "hot tub             0.817632\n",
       "lion                0.818328\n",
       "cow                 0.821389\n",
       "dresser             0.822238\n",
       "elephant            0.826863\n",
       "monkey              0.827764\n",
       "crocodile           0.831770\n",
       "panda               0.834535\n",
       "bird                0.835587\n",
       "cat                 0.836277\n",
       "toaster             0.837725\n",
       "fan                 0.838687\n",
       "crab                0.838777\n",
       "drill               0.839457\n",
       "duck                0.839711\n",
       "drums               0.840013\n",
       "fire hydrant        0.840085\n",
       "animal migration    0.841143\n",
       "sleeping bag        0.842327\n",
       "lobster             0.843431\n",
       "cannon              0.844725\n",
       "raccoon             0.846021\n",
       "roller coaster      0.846988\n",
       "matches             0.847460\n",
       "bandage             0.851362\n",
       "angel               0.853208\n",
       "...                      ...\n",
       "crown               0.967991\n",
       "shorts              0.968304\n",
       "camera              0.968425\n",
       "bicycle             0.968489\n",
       "sailboat            0.968968\n",
       "sun                 0.968979\n",
       "strawberry          0.969428\n",
       "ladder              0.969822\n",
       "rain                0.970285\n",
       "bread               0.970316\n",
       "butterfly           0.970762\n",
       "snowflake           0.970836\n",
       "umbrella            0.971229\n",
       "zigzag              0.971376\n",
       "ice cream           0.973232\n",
       "donut               0.973620\n",
       "grass               0.974933\n",
       "pineapple           0.974950\n",
       "swing set           0.975259\n",
       "skateboard          0.975290\n",
       "piano               0.975537\n",
       "vase                0.976066\n",
       "house               0.977573\n",
       "cloud               0.977733\n",
       "triangle            0.978323\n",
       "pear                0.979214\n",
       "bucket              0.979575\n",
       "line                0.981365\n",
       "clock               0.984295\n",
       "rainbow             0.987457\n",
       "\n",
       "[340 rows x 1 columns]"
      ]
     },
     "execution_count": 17,
     "metadata": {},
     "output_type": "execute_result"
    }
   ],
   "source": [
    "recognition_rate_df.sort_values(\"recognized\")"
   ]
  },
  {
   "cell_type": "code",
   "execution_count": 6,
   "metadata": {},
   "outputs": [],
   "source": [
    "# df_all = df_all[df_all.recognized==True]"
   ]
  },
  {
   "cell_type": "code",
   "execution_count": 303,
   "metadata": {},
   "outputs": [
    {
     "data": {
      "text/plain": [
       "(49707579, 3)"
      ]
     },
     "execution_count": 303,
     "metadata": {},
     "output_type": "execute_result"
    }
   ],
   "source": [
    "df_all.shape"
   ]
  },
  {
   "cell_type": "code",
   "execution_count": 7,
   "metadata": {},
   "outputs": [
    {
     "data": {
      "text/plain": [
       "(45512752, 3)"
      ]
     },
     "execution_count": 7,
     "metadata": {},
     "output_type": "execute_result"
    }
   ],
   "source": [
    "df_all.shape"
   ]
  },
  {
   "cell_type": "code",
   "execution_count": 304,
   "metadata": {},
   "outputs": [],
   "source": [
    "df_all = df_all.sample(frac=1,random_state=0).reset_index(drop=True)"
   ]
  },
  {
   "cell_type": "code",
   "execution_count": 305,
   "metadata": {},
   "outputs": [],
   "source": [
    "classfiles = glob(path+\"/train/*.csv\")\n",
    "nametoid = {v[:-4].split(\"/\")[-1].replace(\" \", \"_\") :i\n",
    "               for i, v in enumerate(classfiles) if \"df_all_raw\" not in v} #adds underscores\n",
    "idtoname = {i: v[:-4].split(\"/\")[-1].replace(\" \", \"_\")\n",
    "               for i, v in enumerate(classfiles) if \"df_all_raw\" not in v} #adds underscores\n",
    "# imsize = 32  \n",
    "# batch_size=4"
   ]
  },
  {
   "cell_type": "code",
   "execution_count": 313,
   "metadata": {},
   "outputs": [],
   "source": [
    "save_obj([nametoid,idtoname],\"../data/nametoid_idtoname.pik\")"
   ]
  },
  {
   "cell_type": "code",
   "execution_count": 306,
   "metadata": {},
   "outputs": [],
   "source": [
    "df_all[\"target\"] = df_all.word.apply(lambda x: nametoid[x.replace(\" \", \"_\")])"
   ]
  },
  {
   "cell_type": "code",
   "execution_count": 314,
   "metadata": {},
   "outputs": [],
   "source": [
    "df_all.drop([\"recognized\",\"word\"],axis=1,inplace=True)"
   ]
  },
  {
   "cell_type": "code",
   "execution_count": 316,
   "metadata": {},
   "outputs": [
    {
     "data": {
      "text/html": [
       "<div>\n",
       "<style scoped>\n",
       "    .dataframe tbody tr th:only-of-type {\n",
       "        vertical-align: middle;\n",
       "    }\n",
       "\n",
       "    .dataframe tbody tr th {\n",
       "        vertical-align: top;\n",
       "    }\n",
       "\n",
       "    .dataframe thead th {\n",
       "        text-align: right;\n",
       "    }\n",
       "</style>\n",
       "<table border=\"1\" class=\"dataframe\">\n",
       "  <thead>\n",
       "    <tr style=\"text-align: right;\">\n",
       "      <th></th>\n",
       "      <th>drawing</th>\n",
       "      <th>target</th>\n",
       "    </tr>\n",
       "  </thead>\n",
       "  <tbody>\n",
       "    <tr>\n",
       "      <th>0</th>\n",
       "      <td>[[[18, 23, 50, 62, 100, 94, 95], [254, 60, 14,...</td>\n",
       "      <td>56</td>\n",
       "    </tr>\n",
       "    <tr>\n",
       "      <th>1</th>\n",
       "      <td>[[[107, 61, 43, 24, 20, 19, 27, 52, 84, 112, 1...</td>\n",
       "      <td>200</td>\n",
       "    </tr>\n",
       "    <tr>\n",
       "      <th>2</th>\n",
       "      <td>[[[14, 25, 77, 126, 171, 255], [0, 6, 23, 31, ...</td>\n",
       "      <td>202</td>\n",
       "    </tr>\n",
       "    <tr>\n",
       "      <th>3</th>\n",
       "      <td>[[[1, 1, 5, 11, 12, 14, 18, 117, 156, 244, 244...</td>\n",
       "      <td>326</td>\n",
       "    </tr>\n",
       "    <tr>\n",
       "      <th>4</th>\n",
       "      <td>[[[36, 57, 80, 128, 175, 226], [0, 10, 16, 22,...</td>\n",
       "      <td>48</td>\n",
       "    </tr>\n",
       "  </tbody>\n",
       "</table>\n",
       "</div>"
      ],
      "text/plain": [
       "                                             drawing  target\n",
       "0  [[[18, 23, 50, 62, 100, 94, 95], [254, 60, 14,...      56\n",
       "1  [[[107, 61, 43, 24, 20, 19, 27, 52, 84, 112, 1...     200\n",
       "2  [[[14, 25, 77, 126, 171, 255], [0, 6, 23, 31, ...     202\n",
       "3  [[[1, 1, 5, 11, 12, 14, 18, 117, 156, 244, 244...     326\n",
       "4  [[[36, 57, 80, 128, 175, 226], [0, 10, 16, 22,...      48"
      ]
     },
     "execution_count": 316,
     "metadata": {},
     "output_type": "execute_result"
    }
   ],
   "source": [
    "df_all.head()"
   ]
  },
  {
   "cell_type": "code",
   "execution_count": 318,
   "metadata": {},
   "outputs": [],
   "source": [
    "df_all.to_csv(path+\"/df_all_nonrec.csv\",index=False)"
   ]
  },
  {
   "cell_type": "code",
   "execution_count": 3,
   "metadata": {},
   "outputs": [],
   "source": [
    "df_all = pd.read_csv(path+\"/df_all_nonrec.csv\")"
   ]
  },
  {
   "cell_type": "markdown",
   "metadata": {},
   "source": [
    "### Train-test split"
   ]
  },
  {
   "cell_type": "code",
   "execution_count": 4,
   "metadata": {},
   "outputs": [],
   "source": [
    "from sklearn.model_selection import StratifiedShuffleSplit"
   ]
  },
  {
   "cell_type": "code",
   "execution_count": 321,
   "metadata": {},
   "outputs": [
    {
     "data": {
      "application/vnd.jupyter.widget-view+json": {
       "model_id": "960c8ee2bbb74276b94b18d15d02987b",
       "version_major": 2,
       "version_minor": 0
      },
      "text/plain": [
       "HBox(children=(IntProgress(value=1, bar_style='info', max=1), HTML(value='')))"
      ]
     },
     "metadata": {},
     "output_type": "display_data"
    },
    {
     "name": "stdout",
     "output_type": "stream",
     "text": [
      "\n"
     ]
    }
   ],
   "source": [
    "sss = StratifiedShuffleSplit(test_size=0.1, random_state=0)\n",
    "folds10 = []\n",
    "for train_index, test_index in tqdm_notebook(sss.split(df_all.drawing,df_all.target)):\n",
    "    folds10.append({\"train_index\":train_index, \"test_index\":test_index})\n",
    "    \n"
   ]
  },
  {
   "cell_type": "code",
   "execution_count": 322,
   "metadata": {},
   "outputs": [],
   "source": [
    "save_obj(folds10, \"../data/folds10_nonrec.pik\")"
   ]
  },
  {
   "cell_type": "code",
   "execution_count": 4,
   "metadata": {},
   "outputs": [],
   "source": [
    "folds10 = load_obj(\"../data/folds10_nonrec.pik\")"
   ]
  },
  {
   "cell_type": "code",
   "execution_count": 5,
   "metadata": {},
   "outputs": [],
   "source": [
    "folds10 = folds10[8]"
   ]
  },
  {
   "cell_type": "code",
   "execution_count": 6,
   "metadata": {},
   "outputs": [],
   "source": [
    "train_index = folds10[\"train_index\"]\n",
    "valid_index = folds10[\"test_index\"]"
   ]
  },
  {
   "cell_type": "code",
   "execution_count": 7,
   "metadata": {},
   "outputs": [
    {
     "data": {
      "text/plain": [
       "11184205"
      ]
     },
     "execution_count": 7,
     "metadata": {},
     "output_type": "execute_result"
    }
   ],
   "source": [
    "sample_index = train_index[:len(train_index)//4]\n",
    "len(sample_index)"
   ]
  },
  {
   "cell_type": "code",
   "execution_count": 8,
   "metadata": {},
   "outputs": [],
   "source": [
    "samplel_df_fold8= df_all.iloc[sample_index]"
   ]
  },
  {
   "cell_type": "code",
   "execution_count": 30,
   "metadata": {
    "scrolled": true
   },
   "outputs": [
    {
     "data": {
      "text/plain": [
       "(11184205, 2)"
      ]
     },
     "execution_count": 30,
     "metadata": {},
     "output_type": "execute_result"
    }
   ],
   "source": [
    "samplel_df_fold8.shape"
   ]
  },
  {
   "cell_type": "code",
   "execution_count": 9,
   "metadata": {},
   "outputs": [],
   "source": [
    "valid_df_fold8 = df_all.iloc[valid_index]"
   ]
  },
  {
   "cell_type": "code",
   "execution_count": 33,
   "metadata": {},
   "outputs": [
    {
     "name": "stdout",
     "output_type": "stream",
     "text": [
      "df_all_nonrec.csv   nametoid_idtoname.pik  train\r\n",
      "df_all_raw.csv\t    sample_submission.csv  train_test_split.pik\r\n",
      "folds10_nonrec.pik  small-set.csv\r\n",
      "folds10.pik\t    test_simplified.csv\r\n"
     ]
    }
   ],
   "source": [
    "!ls ../data/"
   ]
  },
  {
   "cell_type": "code",
   "execution_count": 35,
   "metadata": {},
   "outputs": [],
   "source": [
    "valid_df_fold8.to_csv(\"../data/valid_df_nonrec_fold8.csv\",index=False)"
   ]
  },
  {
   "cell_type": "code",
   "execution_count": 10,
   "metadata": {},
   "outputs": [],
   "source": [
    "samplel_df_fold8.to_csv(\"../data/sample_df_nonrec_fold8.csv\",index=False)"
   ]
  },
  {
   "cell_type": "code",
   "execution_count": null,
   "metadata": {},
   "outputs": [],
   "source": [
    "# df_all.iloc[valid_index].to_csv(\"../data/valid_fold0_10\")"
   ]
  },
  {
   "cell_type": "markdown",
   "metadata": {},
   "source": [
    "### Augmentation test"
   ]
  },
  {
   "cell_type": "code",
   "execution_count": 3,
   "metadata": {},
   "outputs": [],
   "source": [
    "import math\n"
   ]
  },
  {
   "cell_type": "code",
   "execution_count": 3,
   "metadata": {},
   "outputs": [],
   "source": [
    "small_df = pd.read_csv(\"../data/small-set.csv\")"
   ]
  },
  {
   "cell_type": "code",
   "execution_count": 5,
   "metadata": {},
   "outputs": [],
   "source": [
    "# strokes = small_df.drawing.iloc[0]\n",
    "\n",
    "# %time results = json.loads(strokes)"
   ]
  },
  {
   "cell_type": "code",
   "execution_count": 4,
   "metadata": {},
   "outputs": [],
   "source": [
    "# # im = Image.new('RGBA', (11,13), 'white')\n",
    "# im = Image.new(\"P\", (256,256), color=255)\n",
    "# image_draw = ImageDraw.Draw(image)\n",
    "# w, h = im.size\n",
    "# draw = ImageDraw.Draw(im)\n",
    "# draw.line((0, 0, 1, 1), fill='cyan')\n",
    "# draw.line((0, h-10, 1, h-2), fill='magenta')\n",
    "# draw.line((w-1, h-10, w-20, h-2), fill='yellow')\n",
    "# draw.line((w-1, 0, w-20, 1), fill='black')\n"
   ]
  },
  {
   "cell_type": "code",
   "execution_count": 5,
   "metadata": {},
   "outputs": [],
   "source": [
    "# desired_size = 368\n",
    "# old_size = im.size\n",
    "# ratio = float(desired_size)/max(old_size)\n",
    "# new_size = tuple([int(x*ratio) for x in old_size])\n",
    "# new_im = Image.new(\"RGB\", (desired_size, desired_size))\n",
    "# new_im.paste(im, ((desired_size-old_size[0])//2,\n",
    "#                     (desired_size-old_size[1])//2))\n"
   ]
  },
  {
   "cell_type": "code",
   "execution_count": 25,
   "metadata": {},
   "outputs": [],
   "source": [
    "\n",
    "def draw_it_augv3(strokes, imsize, prob=0.1):\n",
    "\n",
    "#     if self.get_augmented_strokes:\n",
    "#         strokes = self.get_augmented_strokes(strokes)\n",
    "\n",
    "    image = Image.new(\"P\", (300,300), color=255)\n",
    "    image_draw = ImageDraw.Draw(image)\n",
    "\n",
    "    # affine translation\n",
    "    offset_x = (300-256)//2 #np.random.randint(5,((300-256)//2)-5)\n",
    "    offset_y = (300-256)//2 #np.random.randint(5,((300-256)//2)-5)\n",
    "\n",
    "    # affine rotation\n",
    "    rotation_val =  0 #math.radians(np.random.uniform(-10,10))\n",
    "    strokes = ast.literal_eval(strokes)\n",
    "\n",
    "    for stroke_order,stroke in enumerate(strokes):\n",
    "\n",
    "        # adding local jitter per stroke\n",
    "        local_offset_x = 0 #np.random.randint(-2,2)\n",
    "        local_offset_y = 0 #np.random.randint(-2,2)\n",
    "        local_rotation =  0 #math.radians(np.random.uniform(-2,2))\n",
    "\n",
    "\n",
    "        for i in range(len(stroke[0])-1):\n",
    "            x1 = stroke[0][i]+offset_x+local_offset_x\n",
    "            y1 = stroke[1][i]+offset_y+local_offset_y\n",
    "            x2 = stroke[0][i+1]+offset_x+local_offset_x\n",
    "            y2 = stroke[1][i+1]+offset_y+local_offset_y\n",
    "\n",
    "            x1, y1 = rotate_point((150,150),(x1,y1),rotation_val+local_rotation)\n",
    "            x2, y2 = rotate_point((150,150),(x2,y2),rotation_val+local_rotation)\n",
    "            image_draw.line([x1, \n",
    "                             y1,\n",
    "                             x2, \n",
    "                             y2],\n",
    "                            fill=0, width=5)\n",
    "\n",
    "    image = image.resize(( imsize,  imsize))\n",
    "    image = np.array(image)/255.\n",
    "\n",
    "    # horizontal flip\n",
    "    if np.random.rand() < 0.5:\n",
    "        image = np.flip(image,axis=1)\n",
    "    plt.imshow(image)\n",
    "\n",
    "    return np.reshape(image,image.shape+(1,))\n"
   ]
  },
  {
   "cell_type": "code",
   "execution_count": 239,
   "metadata": {},
   "outputs": [],
   "source": [
    "imsize = 96\n",
    "from keras.applications.mobilenet_v2 import preprocess_input\n",
    "def draw_it_3channel_plusinfo(strokes):\n",
    "    image = Image.new(\"P\", (256,256), color=255)\n",
    "    image_draw = ImageDraw.Draw(image)\n",
    "\n",
    "    stroke_order_image = Image.new(\"P\", (256,256), color=255)\n",
    "    stroke_order_image_draw = ImageDraw.Draw(stroke_order_image)\t\t\n",
    "\n",
    "    point_order_image = Image.new(\"P\", (256,256), color=255)\n",
    "    point_order_image_draw = ImageDraw.Draw(point_order_image)\t\t\n",
    "\n",
    "    point_count = 0\n",
    "    for stroke_id, stroke in enumerate(ast.literal_eval(strokes)):\n",
    "        for i in range(len(stroke[0])-1):\n",
    "            x1 = stroke[0][i]\n",
    "            y1 = stroke[1][i]\n",
    "            x2 = stroke[0][i+1]\n",
    "            y2 = stroke[1][i+1]\n",
    "\n",
    "            image_draw.line([x1,y1,x2,y2],\n",
    "                            fill=0, width=5)\n",
    "\n",
    "            point_count += 1\n",
    "\n",
    "            point_order_image_draw.line([x1,y1,x2,y2],  fill=min((point_count),255), width=5)\n",
    "            stroke_order_image_draw.line([x1,y1,x2,y2], fill=min((stroke_id*5),255), width=5)\n",
    "#         break\n",
    "    \n",
    "    \n",
    "    image = image.resize(( imsize,  imsize))\n",
    "    image = np.array(image,dtype=np.float32)\n",
    "    \n",
    "    stroke_order_image = stroke_order_image.resize(( imsize,  imsize))\n",
    "    stroke_order_image = np.array(stroke_order_image,dtype=np.float32)\n",
    "    \n",
    "    point_order_image = point_order_image.resize(( imsize,  imsize))\n",
    "    point_order_image = np.array(point_order_image, dtype=np.float32)\n",
    "    # horizontal flip\n",
    "    if np.random.rand() < 0.5:\n",
    "        image = np.flip(image,axis=1)  \n",
    "        stroke_order_image = np.flip(stroke_order_image,axis=1)\n",
    "        point_order_image = np.flip(point_order_image,axis=1)          \n",
    "#     print (stroke_order_image.mean(), image.mean(), point_order_image.mean())\n",
    "#     print ((stroke_order_image == point_order_image).mean())\n",
    "    image = np.stack([image, stroke_order_image, point_order_image],axis=-1)\n",
    "#     image = np.tile(image[:, :, None], [1, 1, 3])\n",
    "\n",
    "    \n",
    "    \n",
    "\n",
    "    image = preprocess_input(image)\n",
    "    return image\n",
    "\n"
   ]
  },
  {
   "cell_type": "code",
   "execution_count": 240,
   "metadata": {},
   "outputs": [],
   "source": [
    "def draw_it_3channel_augv3(strokes):\n",
    "    image = Image.new(\"P\", (300,300), color=255)\n",
    "    image_draw = ImageDraw.Draw(image)\n",
    "\n",
    "    # affine translation\n",
    "#     (300-256)//2\n",
    "    pad= (300-256)//2\n",
    "    offset_x = np.random.randint(5,2*pad-5)\n",
    "    offset_y = np.random.randint(5,2*pad-5) #np.random.randint(150-pad +5,150+pad-5)\n",
    "\n",
    "    # affine rotation\n",
    "    rotation_val =  math.radians(np.random.uniform(-10,10))\n",
    "    strokes = ast.literal_eval(strokes)\n",
    "\n",
    "    for stroke_order,stroke in enumerate(strokes):\n",
    "\n",
    "        # adding local jitter per stroke\n",
    "        local_offset_x = np.random.randint(-2,2)\n",
    "        local_offset_y = np.random.randint(-2,2)\n",
    "        local_rotation = math.radians(np.random.uniform(-2,2))\n",
    "\n",
    "\n",
    "        for i in range(len(stroke[0])-1):\n",
    "            x1 = stroke[0][i]+offset_x+local_offset_x\n",
    "            y1 = stroke[1][i]+offset_y+local_offset_y\n",
    "            x2 = stroke[0][i+1]+offset_x+local_offset_x\n",
    "            y2 = stroke[1][i+1]+offset_y+local_offset_y\n",
    "\n",
    "            x1, y1 = rotate_point((150,150),(x1,y1),rotation_val+local_rotation)\n",
    "            x2, y2 = rotate_point((150,150),(x2,y2),rotation_val+local_rotation)\n",
    "            image_draw.line([x1, \n",
    "                             y1,\n",
    "                             x2, \n",
    "                             y2],\n",
    "                            fill=0, width=5)\n",
    "            \n",
    "            \n",
    "    image = image.resize(( imsize,  imsize))\n",
    "    image = np.array(image,dtype=np.float32)   \n",
    "\n",
    "    # horizontal flip\n",
    "    if np.random.rand() < 0.5:\n",
    "        image = np.flip(image,axis=1)    \n",
    "    \n",
    "    image = np.tile(image[:, :, None], [1, 1, 3])\n",
    "\n",
    "    image = preprocess_input(image)\n",
    "    return image\n"
   ]
  },
  {
   "cell_type": "code",
   "execution_count": 256,
   "metadata": {},
   "outputs": [
    {
     "name": "stderr",
     "output_type": "stream",
     "text": [
      "Clipping input data to the valid range for imshow with RGB data ([0..1] for floats or [0..255] for integers).\n"
     ]
    },
    {
     "data": {
      "text/plain": [
       "<matplotlib.image.AxesImage at 0x7f1a44f3dcf8>"
      ]
     },
     "execution_count": 256,
     "metadata": {},
     "output_type": "execute_result"
    },
    {
     "data": {
      "image/png": "[encoded data removed]",
      "text/plain": [
       "<Figure size 432x288 with 1 Axes>"
      ]
     },
     "metadata": {
      "needs_background": "light"
     },
     "output_type": "display_data"
    }
   ],
   "source": [
    "im = draw_it_3channel_plusinfo(small_df.drawing.iloc[0])\n",
    "\n",
    "\n",
    "# im = im[:,:,0]\n",
    "# im = np.tile(im[:, :, None], [1, 1, 3])\n",
    "\n",
    "plt.imshow(im)\n"
   ]
  },
  {
   "cell_type": "code",
   "execution_count": 796,
   "metadata": {},
   "outputs": [],
   "source": [
    "# def draw_it_augv3(strokes, imsize,  prob=0.1, aug=True):\n",
    "\n",
    "#     image = Image.new(\"P\", (300,300), color=255)\n",
    "#     image_draw = ImageDraw.Draw(image)\n",
    "    \n",
    "#     # affine translation\n",
    "#     offset_x = np.random.randint(5,(300-256)//2-5)\n",
    "#     offset_y = np.random.randint(5,(300-256)//2-5)\n",
    "    \n",
    "#     # affine rotation\n",
    "#     rotation_val =  math.radians(np.random.uniform(-10,10))\n",
    "#     strokes = ast.literal_eval(strokes)\n",
    "    \n",
    "#     for stroke_order,stroke in enumerate(strokes):\n",
    "        \n",
    "#         # adding local jitter per stroke\n",
    "#         local_offset_x = np.random.randint(-2,2)\n",
    "#         local_offset_y = np.random.randint(-2,2)\n",
    "#         local_rotation =  math.radians(np.random.uniform(-2,2))\n",
    "        \n",
    "        \n",
    "#         for i in range(len(stroke[0])-1):\n",
    "#             x1 = stroke[0][i]+offset_x+local_offset_x\n",
    "#             y1 = stroke[1][i]+offset_y+local_offset_y\n",
    "#             x2 = stroke[0][i+1]+offset_x+local_offset_x\n",
    "#             y2 = stroke[1][i+1]+offset_y+local_offset_y\n",
    "            \n",
    "#             x1, y1 = rotate_point((150,150),(x1,y1),rotation_val+local_rotation)\n",
    "#             x2, y2 = rotate_point((150,150),(x2,y2),rotation_val+local_rotation)\n",
    "#             image_draw.line([x1, \n",
    "#                              y1,\n",
    "#                              x2, \n",
    "#                              y2],\n",
    "#                             fill=0, width=5)\n",
    "            \n",
    "#     image = image.resize(( imsize,  imsize))\n",
    "#     image = np.array(image)/255.\n",
    "    \n",
    "#     if np.random.rand() < 0.5:\n",
    "#         image = np.flip(image,axis=1)\n",
    "    \n",
    "# #     plt.imshow(image)\n",
    "    \n",
    "#     return np.reshape(image,image.shape+(1,))\n",
    "\n",
    "\n",
    "# def get_augmented_strokes(strokes, prob=0.1):\n",
    "#     augmented = []\n",
    "#     strokes = ast.literal_eval(strokes)\n",
    "    \n",
    "#     for i,stroke in enumerate(strokes):\n",
    "        \n",
    "#         stroke_drop_prob = prob*((i+1)/len(strokes))\n",
    "#         # drop final strokes with a higher chance \n",
    "#         if np.random.rand() < stroke_drop_prob:\n",
    "#             print(\"dropping stroke\")\n",
    "#             continue\n",
    "            \n",
    "#         if len(stroke[0]) < 3 : \n",
    "#             augmented.append(stroke)\n",
    "#             continue\n",
    "#         else:\n",
    "#             new_stroke =[[],[]]\n",
    "#             for i in range(0,len(stroke[0])):\n",
    "#                 if i > 0 and i < len(stroke[0])-1:\n",
    "#                     if np.random.rand() < prob:\n",
    "# #                         print(\"skipping adding item\")\n",
    "#                         continue \n",
    "# #                     if np.random.rand() < prob:\n",
    "# # #                         print(\"adjusting stroke by a random number\")\n",
    "# #                         delta_x = np.random.randint(-5,5)\n",
    "# #                         delta_y = np.random.randint(-5,5)\n",
    "# #                         stroke[0][i] += delta_x\n",
    "# #                         stroke[1][i] += delta_y\n",
    "                        \n",
    "#                 new_stroke[0].append(stroke[0][i])\n",
    "#                 new_stroke[1].append(stroke[1][i])\n",
    "            \n",
    "#             augmented.append(new_stroke)\n",
    "#     return str(augmented)"
   ]
  },
  {
   "cell_type": "code",
   "execution_count": 16,
   "metadata": {},
   "outputs": [],
   "source": [
    "\n",
    "def draw_it( strokes,imsize):\n",
    "\n",
    "    image = Image.new(\"P\", (300,300), color=255)\n",
    "    image_draw = ImageDraw.Draw(image)\n",
    "\n",
    "    offset = (300-256)//2\n",
    "\n",
    "    for stroke in ast.literal_eval(strokes):\n",
    "        for i in range(len(stroke[0])-1):\n",
    "            image_draw.line([stroke[0][i]+offset, \n",
    "                             stroke[1][i]+offset,\n",
    "                             stroke[0][i+1]+offset, \n",
    "                             stroke[1][i+1]+offset],\n",
    "                            fill=0, width=5)\n",
    "\n",
    "    image = image.resize(( imsize,  imsize))\n",
    "    image = np.array(image)/255.\n",
    "    plt.imshow(image)\n",
    "\n",
    "    return np.reshape(image,image.shape+(1,))\n"
   ]
  },
  {
   "cell_type": "code",
   "execution_count": 860,
   "metadata": {},
   "outputs": [],
   "source": [
    "# def draw_it(strokes, imsize):\n",
    "\n",
    "#     image = Image.new(\"P\", (300,300), color=255)\n",
    "#     offset = (300-256)//2\n",
    "#     image_draw = ImageDraw.Draw(image)\n",
    "#     for stroke in ast.literal_eval(strokes):\n",
    "#         for i in range(len(stroke[0])-1):\n",
    "#             image_draw.line([stroke[0][i]+offset, \n",
    "#                              stroke[1][i]+offset,\n",
    "#                              stroke[0][i+1]+offset, \n",
    "#                              stroke[1][i+1]+offset],\n",
    "#                             fill=0, width=5)\n",
    "            \n",
    "#     image = image.resize(( imsize,  imsize))\n",
    "#     image = np.array(image)/255.\n",
    "    \n",
    "#     plt.imshow(image)\n",
    "    \n",
    "#     return np.reshape(image,image.shape+(1,))"
   ]
  },
  {
   "cell_type": "code",
   "execution_count": 76,
   "metadata": {},
   "outputs": [],
   "source": [
    "strokes = small_df.drawing.iloc[29]\n"
   ]
  },
  {
   "cell_type": "code",
   "execution_count": 77,
   "metadata": {},
   "outputs": [
    {
     "data": {
      "image/png": "[encoded data removed]",
      "text/plain": [
       "<Figure size 432x288 with 1 Axes>"
      ]
     },
     "metadata": {
      "needs_background": "light"
     },
     "output_type": "display_data"
    }
   ],
   "source": [
    "img = draw_it(strokes, 128)\n"
   ]
  },
  {
   "cell_type": "code",
   "execution_count": 90,
   "metadata": {},
   "outputs": [
    {
     "data": {
      "image/png": "[encoded data removed]",
      "text/plain": [
       "<Figure size 432x288 with 1 Axes>"
      ]
     },
     "metadata": {
      "needs_background": "light"
     },
     "output_type": "display_data"
    }
   ],
   "source": [
    "img = draw_it_augv3(strokes, 128)"
   ]
  },
  {
   "cell_type": "code",
   "execution_count": 865,
   "metadata": {},
   "outputs": [],
   "source": [
    "# strokes_new = get_augmented_strokes(strokes,0.1)\n",
    "# new_img = draw_it(strokes_new, 256)"
   ]
  },
  {
   "cell_type": "code",
   "execution_count": 40,
   "metadata": {},
   "outputs": [],
   "source": [
    "from imgaug import augmenters as iaa\n",
    "import imgaug as ia\n",
    "\n",
    "sometimes = lambda aug: iaa.Sometimes(0.5, aug)\n",
    "# seq = iaa.Sequential([\n",
    "#     iaa.Fliplr(0.2), # horizontally flip 50% of the images\n",
    "#     iaa.Flipud(0.2)# horizontally flip 50% of the images    \n",
    "# #     sometimes(iaa.Affine(\n",
    "# # #         translate_percent={\"x\": (-0.05, 0.05), \"y\": (-0.05, 0.05)}, # translate by -10 to +10 percent (per axis)\n",
    "# # #         rotate=(-2, 2), # rotate by -45 to +45 degrees\n",
    "# # #         shear=(-20, 20), # shear by -16 to +16 degrees\n",
    "# #         cval=1\n",
    "# #     ))   \n",
    "#     ])\n",
    "\n",
    "# seq = iaa.Sequential([\n",
    "#     iaa.Fliplr(0.5),\n",
    "# #     iaa.Flipud(0.2),\n",
    "# #     sometimes(iaa.Affine(scale={\"y\": (0.8, 1.2)} ,  cval=1)),\n",
    "#     sometimes(iaa.Affine(translate_percent={\"x\": (-0.05, 0.05), \"y\": (-0.05, 0.05)},cval=1)),\n",
    "# #     sometimes(iaa.Affine(shear=(-5, 5),  cval=1)),\n",
    "#     sometimes(iaa.Affine(rotate=(-10, 10),  cval=1))\n",
    "#     ])\t\t\n",
    "\n",
    "seq = iaa.Sequential(\n",
    "    [\n",
    "        # apply the following augmenters to most images\n",
    "        iaa.Fliplr(0.5), # horizontally flip 50% of all images\n",
    "#         iaa.Flipud(0.2), # vertically flip 20% of all images\n",
    "#         # crop images by -5% to 10% of their height/width\n",
    "#         sometimes(iaa.CropAndPad(\n",
    "#             percent=(-0.05, 0.1),\n",
    "#             pad_mode=ia.ALL,\n",
    "#             pad_cval=1\n",
    "#         )),\n",
    "        sometimes(iaa.Affine(\n",
    "            scale={\"x\": (0.8, 1.2), \"y\": (0.8, 1.2)}, # scale images to 80-120% of their size, individually per axis\n",
    "            translate_percent={\"x\": (-0.2, 0.2), \"y\": (-0.2, 0.2)}, # translate by -20 to +20 percent (per axis)\n",
    "            rotate=(-45, 45), # rotate by -45 to +45 degrees\n",
    "            shear=(-16, 16), # shear by -16 to +16 degrees\n",
    "            order=[0, 1], # use nearest neighbour or bilinear interpolation (fast)\n",
    "            cval=1, # if mode is constant, use a cval between 0 and 255\n",
    "            mode=ia.ALL # use any of scikit-image's warping modes (see 2nd image from the top for examples)\n",
    "        ))])"
   ]
  },
  {
   "cell_type": "code",
   "execution_count": 53,
   "metadata": {},
   "outputs": [
    {
     "data": {
      "text/plain": [
       "<matplotlib.image.AxesImage at 0x7f9bc60092b0>"
      ]
     },
     "execution_count": 53,
     "metadata": {},
     "output_type": "execute_result"
    },
    {
     "data": {
      "image/png": "[encoded data removed]",
      "text/plain": [
       "<Figure size 432x288 with 1 Axes>"
      ]
     },
     "metadata": {
      "needs_background": "light"
     },
     "output_type": "display_data"
    }
   ],
   "source": [
    "images_aug = seq.augment_images(new_img.reshape(1,128,128,1))\n",
    "plt.imshow(images_aug.reshape(128,128))"
   ]
  },
  {
   "cell_type": "code",
   "execution_count": null,
   "metadata": {},
   "outputs": [],
   "source": []
  }
 ],
 "metadata": {
  "kernelspec": {
   "display_name": "Python 3",
   "language": "python",
   "name": "python3"
  },
  "language_info": {
   "codemirror_mode": {
    "name": "ipython",
    "version": 3
   },
   "file_extension": ".py",
   "mimetype": "text/x-python",
   "name": "python",
   "nbconvert_exporter": "python",
   "pygments_lexer": "ipython3",
   "version": "3.6.6"
  }
 },
 "nbformat": 4,
 "nbformat_minor": 2
}
